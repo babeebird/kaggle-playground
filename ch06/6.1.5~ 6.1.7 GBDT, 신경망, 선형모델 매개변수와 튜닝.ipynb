{
  "nbformat": 4,
  "nbformat_minor": 0,
  "metadata": {
    "colab": {
      "name": "6.1.5 - 6.1.7.ipynb",
      "provenance": [],
      "collapsed_sections": []
    },
    "kernelspec": {
      "name": "python3",
      "display_name": "Python 3"
    },
    "language_info": {
      "name": "python"
    }
  },
  "cells": [
    {
      "cell_type": "code",
      "metadata": {
        "colab": {
          "base_uri": "https://localhost:8080/"
        },
        "id": "fe_iKK6fEEIR",
        "outputId": "0aa5342c-48c3-4394-c985-59655baa00ee"
      },
      "source": [
        "from google.colab import drive\n",
        "drive.mount('/content/gdrive')"
      ],
      "execution_count": 51,
      "outputs": [
        {
          "output_type": "stream",
          "name": "stdout",
          "text": [
            "Drive already mounted at /content/gdrive; to attempt to forcibly remount, call drive.mount(\"/content/gdrive\", force_remount=True).\n"
          ]
        }
      ]
    },
    {
      "cell_type": "markdown",
      "metadata": {
        "id": "edIP5E55EWiQ"
      },
      "source": [
        "# 6.1.5 Xgboost의 매개변수와 튜닝"
      ]
    },
    {
      "cell_type": "markdown",
      "metadata": {
        "id": "Xrq5BgcCHzZX"
      },
      "source": [
        "## 1. 데이터 불러오기"
      ]
    },
    {
      "cell_type": "markdown",
      "metadata": {
        "id": "H96vyppr41iG"
      },
      "source": [
        "### 참고자료\n",
        "- [Titatic dataset 활용한 Xgboost 하이퍼 파라미터 튜닝](https://www.kaggle.com/lifesailor/xgboost/notebook)"
      ]
    },
    {
      "cell_type": "code",
      "metadata": {
        "id": "BPndYErEFGX9"
      },
      "source": [
        "import pandas as pd\n",
        "import numpy as np\n",
        "import xgboost as xgb\n",
        "from xgboost.sklearn import XGBClassifier\n",
        "from sklearn import metrics   #Additional scklearn functions\n",
        "from sklearn.model_selection import GridSearchCV   #Perforing grid search\n",
        "\n",
        "import matplotlib.pylab as plt\n",
        "%matplotlib inline\n",
        "from matplotlib.pylab import rcParams\n",
        "rcParams['figure.figsize'] = 12, 4"
      ],
      "execution_count": 52,
      "outputs": []
    },
    {
      "cell_type": "code",
      "metadata": {
        "id": "BfTH8Lc3E3eu"
      },
      "source": [
        "train_file_path = '/content/gdrive/MyDrive/Data Analysis/kaggle/data/titanic/train.csv'\n",
        "test_file_path = '/content/gdrive/MyDrive/Data Analysis/kaggle/data/titanic/test.csv'"
      ],
      "execution_count": 61,
      "outputs": []
    },
    {
      "cell_type": "code",
      "metadata": {
        "id": "kYUvzgy2FNg8"
      },
      "source": [
        "train = pd.read_csv(train_file_path)\n",
        "test = pd.read_csv(test_file_path)"
      ],
      "execution_count": 62,
      "outputs": []
    },
    {
      "cell_type": "code",
      "metadata": {
        "colab": {
          "base_uri": "https://localhost:8080/",
          "height": 290
        },
        "id": "4IUixu1OFSDz",
        "outputId": "b2b70f66-3f88-4717-a0f7-6e116012971d"
      },
      "source": [
        "print(train.shape)\n",
        "train.head()"
      ],
      "execution_count": 63,
      "outputs": [
        {
          "output_type": "stream",
          "name": "stdout",
          "text": [
            "(891, 12)\n"
          ]
        },
        {
          "output_type": "execute_result",
          "data": {
            "text/html": [
              "<div>\n",
              "<style scoped>\n",
              "    .dataframe tbody tr th:only-of-type {\n",
              "        vertical-align: middle;\n",
              "    }\n",
              "\n",
              "    .dataframe tbody tr th {\n",
              "        vertical-align: top;\n",
              "    }\n",
              "\n",
              "    .dataframe thead th {\n",
              "        text-align: right;\n",
              "    }\n",
              "</style>\n",
              "<table border=\"1\" class=\"dataframe\">\n",
              "  <thead>\n",
              "    <tr style=\"text-align: right;\">\n",
              "      <th></th>\n",
              "      <th>PassengerId</th>\n",
              "      <th>Survived</th>\n",
              "      <th>Pclass</th>\n",
              "      <th>Name</th>\n",
              "      <th>Sex</th>\n",
              "      <th>Age</th>\n",
              "      <th>SibSp</th>\n",
              "      <th>Parch</th>\n",
              "      <th>Ticket</th>\n",
              "      <th>Fare</th>\n",
              "      <th>Cabin</th>\n",
              "      <th>Embarked</th>\n",
              "    </tr>\n",
              "  </thead>\n",
              "  <tbody>\n",
              "    <tr>\n",
              "      <th>0</th>\n",
              "      <td>1</td>\n",
              "      <td>0</td>\n",
              "      <td>3</td>\n",
              "      <td>Braund, Mr. Owen Harris</td>\n",
              "      <td>male</td>\n",
              "      <td>22.0</td>\n",
              "      <td>1</td>\n",
              "      <td>0</td>\n",
              "      <td>A/5 21171</td>\n",
              "      <td>7.2500</td>\n",
              "      <td>NaN</td>\n",
              "      <td>S</td>\n",
              "    </tr>\n",
              "    <tr>\n",
              "      <th>1</th>\n",
              "      <td>2</td>\n",
              "      <td>1</td>\n",
              "      <td>1</td>\n",
              "      <td>Cumings, Mrs. John Bradley (Florence Briggs Th...</td>\n",
              "      <td>female</td>\n",
              "      <td>38.0</td>\n",
              "      <td>1</td>\n",
              "      <td>0</td>\n",
              "      <td>PC 17599</td>\n",
              "      <td>71.2833</td>\n",
              "      <td>C85</td>\n",
              "      <td>C</td>\n",
              "    </tr>\n",
              "    <tr>\n",
              "      <th>2</th>\n",
              "      <td>3</td>\n",
              "      <td>1</td>\n",
              "      <td>3</td>\n",
              "      <td>Heikkinen, Miss. Laina</td>\n",
              "      <td>female</td>\n",
              "      <td>26.0</td>\n",
              "      <td>0</td>\n",
              "      <td>0</td>\n",
              "      <td>STON/O2. 3101282</td>\n",
              "      <td>7.9250</td>\n",
              "      <td>NaN</td>\n",
              "      <td>S</td>\n",
              "    </tr>\n",
              "    <tr>\n",
              "      <th>3</th>\n",
              "      <td>4</td>\n",
              "      <td>1</td>\n",
              "      <td>1</td>\n",
              "      <td>Futrelle, Mrs. Jacques Heath (Lily May Peel)</td>\n",
              "      <td>female</td>\n",
              "      <td>35.0</td>\n",
              "      <td>1</td>\n",
              "      <td>0</td>\n",
              "      <td>113803</td>\n",
              "      <td>53.1000</td>\n",
              "      <td>C123</td>\n",
              "      <td>S</td>\n",
              "    </tr>\n",
              "    <tr>\n",
              "      <th>4</th>\n",
              "      <td>5</td>\n",
              "      <td>0</td>\n",
              "      <td>3</td>\n",
              "      <td>Allen, Mr. William Henry</td>\n",
              "      <td>male</td>\n",
              "      <td>35.0</td>\n",
              "      <td>0</td>\n",
              "      <td>0</td>\n",
              "      <td>373450</td>\n",
              "      <td>8.0500</td>\n",
              "      <td>NaN</td>\n",
              "      <td>S</td>\n",
              "    </tr>\n",
              "  </tbody>\n",
              "</table>\n",
              "</div>"
            ],
            "text/plain": [
              "   PassengerId  Survived  Pclass  ...     Fare Cabin  Embarked\n",
              "0            1         0       3  ...   7.2500   NaN         S\n",
              "1            2         1       1  ...  71.2833   C85         C\n",
              "2            3         1       3  ...   7.9250   NaN         S\n",
              "3            4         1       1  ...  53.1000  C123         S\n",
              "4            5         0       3  ...   8.0500   NaN         S\n",
              "\n",
              "[5 rows x 12 columns]"
            ]
          },
          "metadata": {},
          "execution_count": 63
        }
      ]
    },
    {
      "cell_type": "code",
      "metadata": {
        "colab": {
          "base_uri": "https://localhost:8080/",
          "height": 222
        },
        "id": "hGAqyFzXGaVI",
        "outputId": "e577541a-4425-49ae-8db0-6ce251762022"
      },
      "source": [
        "print(test.shape)\n",
        "test.head()"
      ],
      "execution_count": 64,
      "outputs": [
        {
          "output_type": "stream",
          "name": "stdout",
          "text": [
            "(418, 11)\n"
          ]
        },
        {
          "output_type": "execute_result",
          "data": {
            "text/html": [
              "<div>\n",
              "<style scoped>\n",
              "    .dataframe tbody tr th:only-of-type {\n",
              "        vertical-align: middle;\n",
              "    }\n",
              "\n",
              "    .dataframe tbody tr th {\n",
              "        vertical-align: top;\n",
              "    }\n",
              "\n",
              "    .dataframe thead th {\n",
              "        text-align: right;\n",
              "    }\n",
              "</style>\n",
              "<table border=\"1\" class=\"dataframe\">\n",
              "  <thead>\n",
              "    <tr style=\"text-align: right;\">\n",
              "      <th></th>\n",
              "      <th>PassengerId</th>\n",
              "      <th>Pclass</th>\n",
              "      <th>Name</th>\n",
              "      <th>Sex</th>\n",
              "      <th>Age</th>\n",
              "      <th>SibSp</th>\n",
              "      <th>Parch</th>\n",
              "      <th>Ticket</th>\n",
              "      <th>Fare</th>\n",
              "      <th>Cabin</th>\n",
              "      <th>Embarked</th>\n",
              "    </tr>\n",
              "  </thead>\n",
              "  <tbody>\n",
              "    <tr>\n",
              "      <th>0</th>\n",
              "      <td>892</td>\n",
              "      <td>3</td>\n",
              "      <td>Kelly, Mr. James</td>\n",
              "      <td>male</td>\n",
              "      <td>34.5</td>\n",
              "      <td>0</td>\n",
              "      <td>0</td>\n",
              "      <td>330911</td>\n",
              "      <td>7.8292</td>\n",
              "      <td>NaN</td>\n",
              "      <td>Q</td>\n",
              "    </tr>\n",
              "    <tr>\n",
              "      <th>1</th>\n",
              "      <td>893</td>\n",
              "      <td>3</td>\n",
              "      <td>Wilkes, Mrs. James (Ellen Needs)</td>\n",
              "      <td>female</td>\n",
              "      <td>47.0</td>\n",
              "      <td>1</td>\n",
              "      <td>0</td>\n",
              "      <td>363272</td>\n",
              "      <td>7.0000</td>\n",
              "      <td>NaN</td>\n",
              "      <td>S</td>\n",
              "    </tr>\n",
              "    <tr>\n",
              "      <th>2</th>\n",
              "      <td>894</td>\n",
              "      <td>2</td>\n",
              "      <td>Myles, Mr. Thomas Francis</td>\n",
              "      <td>male</td>\n",
              "      <td>62.0</td>\n",
              "      <td>0</td>\n",
              "      <td>0</td>\n",
              "      <td>240276</td>\n",
              "      <td>9.6875</td>\n",
              "      <td>NaN</td>\n",
              "      <td>Q</td>\n",
              "    </tr>\n",
              "    <tr>\n",
              "      <th>3</th>\n",
              "      <td>895</td>\n",
              "      <td>3</td>\n",
              "      <td>Wirz, Mr. Albert</td>\n",
              "      <td>male</td>\n",
              "      <td>27.0</td>\n",
              "      <td>0</td>\n",
              "      <td>0</td>\n",
              "      <td>315154</td>\n",
              "      <td>8.6625</td>\n",
              "      <td>NaN</td>\n",
              "      <td>S</td>\n",
              "    </tr>\n",
              "    <tr>\n",
              "      <th>4</th>\n",
              "      <td>896</td>\n",
              "      <td>3</td>\n",
              "      <td>Hirvonen, Mrs. Alexander (Helga E Lindqvist)</td>\n",
              "      <td>female</td>\n",
              "      <td>22.0</td>\n",
              "      <td>1</td>\n",
              "      <td>1</td>\n",
              "      <td>3101298</td>\n",
              "      <td>12.2875</td>\n",
              "      <td>NaN</td>\n",
              "      <td>S</td>\n",
              "    </tr>\n",
              "  </tbody>\n",
              "</table>\n",
              "</div>"
            ],
            "text/plain": [
              "   PassengerId  Pclass  ... Cabin Embarked\n",
              "0          892       3  ...   NaN        Q\n",
              "1          893       3  ...   NaN        S\n",
              "2          894       2  ...   NaN        Q\n",
              "3          895       3  ...   NaN        S\n",
              "4          896       3  ...   NaN        S\n",
              "\n",
              "[5 rows x 11 columns]"
            ]
          },
          "metadata": {},
          "execution_count": 64
        }
      ]
    },
    {
      "cell_type": "markdown",
      "metadata": {
        "id": "sPFz886MHuAH"
      },
      "source": [
        "## 2. 데이터 전처리"
      ]
    },
    {
      "cell_type": "code",
      "metadata": {
        "id": "8M5YRhsJF21X"
      },
      "source": [
        "# 처리하기 복잡한 Column은 제거\n",
        "del train['Ticket']; del test['Ticket']\n",
        "del train['Cabin']; del test['Cabin']\n",
        "del train['Name']; del test['Name']"
      ],
      "execution_count": 65,
      "outputs": []
    },
    {
      "cell_type": "code",
      "metadata": {
        "id": "VLLO3tDIGEKj"
      },
      "source": [
        "# train, test에 다른 Category 존재 가능\n",
        "test.insert(loc=1, column='Survived', value=0)  # 코드를 넣어준 이유는?"
      ],
      "execution_count": 66,
      "outputs": []
    },
    {
      "cell_type": "code",
      "metadata": {
        "id": "2TyptUJoGXdL"
      },
      "source": [
        "# train, test \n",
        "total = pd.concat([train, test], axis=0)"
      ],
      "execution_count": 68,
      "outputs": []
    },
    {
      "cell_type": "code",
      "metadata": {
        "id": "T2ijss3GHPj8"
      },
      "source": [
        "# One hot encoding\n",
        "sex = pd.get_dummies(total['Sex'])\n",
        "embarked = pd.get_dummies(total['Embarked'])"
      ],
      "execution_count": 70,
      "outputs": []
    },
    {
      "cell_type": "code",
      "metadata": {
        "id": "EJmHiZeiGEFV"
      },
      "source": [
        "# 기존 컬럼 제거\n",
        "del total['Sex']\n",
        "del total['Embarked']"
      ],
      "execution_count": 71,
      "outputs": []
    },
    {
      "cell_type": "code",
      "metadata": {
        "id": "kXCAXFxwGEDj"
      },
      "source": [
        "total = pd.concat([total, sex, embarked], axis=1)\n",
        "total['Family'] = total['Parch'] + total['SibSp']"
      ],
      "execution_count": 72,
      "outputs": []
    },
    {
      "cell_type": "code",
      "metadata": {
        "id": "_zvvQkRWGEAt"
      },
      "source": [
        "# one hot 컬럼이 있는 train, test \n",
        "train = total[0:len(train)]\n",
        "test = total[len(train):]"
      ],
      "execution_count": 73,
      "outputs": []
    },
    {
      "cell_type": "code",
      "metadata": {
        "colab": {
          "base_uri": "https://localhost:8080/",
          "height": 204
        },
        "id": "Gf8D1EhoGD9b",
        "outputId": "ee1a0e74-be5f-4b93-d212-e14d64143d2f"
      },
      "source": [
        "train.head()"
      ],
      "execution_count": 74,
      "outputs": [
        {
          "output_type": "execute_result",
          "data": {
            "text/html": [
              "<div>\n",
              "<style scoped>\n",
              "    .dataframe tbody tr th:only-of-type {\n",
              "        vertical-align: middle;\n",
              "    }\n",
              "\n",
              "    .dataframe tbody tr th {\n",
              "        vertical-align: top;\n",
              "    }\n",
              "\n",
              "    .dataframe thead th {\n",
              "        text-align: right;\n",
              "    }\n",
              "</style>\n",
              "<table border=\"1\" class=\"dataframe\">\n",
              "  <thead>\n",
              "    <tr style=\"text-align: right;\">\n",
              "      <th></th>\n",
              "      <th>PassengerId</th>\n",
              "      <th>Survived</th>\n",
              "      <th>Pclass</th>\n",
              "      <th>Age</th>\n",
              "      <th>SibSp</th>\n",
              "      <th>Parch</th>\n",
              "      <th>Fare</th>\n",
              "      <th>female</th>\n",
              "      <th>male</th>\n",
              "      <th>C</th>\n",
              "      <th>Q</th>\n",
              "      <th>S</th>\n",
              "      <th>Family</th>\n",
              "    </tr>\n",
              "  </thead>\n",
              "  <tbody>\n",
              "    <tr>\n",
              "      <th>0</th>\n",
              "      <td>1</td>\n",
              "      <td>0</td>\n",
              "      <td>3</td>\n",
              "      <td>22.0</td>\n",
              "      <td>1</td>\n",
              "      <td>0</td>\n",
              "      <td>7.2500</td>\n",
              "      <td>0</td>\n",
              "      <td>1</td>\n",
              "      <td>0</td>\n",
              "      <td>0</td>\n",
              "      <td>1</td>\n",
              "      <td>1</td>\n",
              "    </tr>\n",
              "    <tr>\n",
              "      <th>1</th>\n",
              "      <td>2</td>\n",
              "      <td>1</td>\n",
              "      <td>1</td>\n",
              "      <td>38.0</td>\n",
              "      <td>1</td>\n",
              "      <td>0</td>\n",
              "      <td>71.2833</td>\n",
              "      <td>1</td>\n",
              "      <td>0</td>\n",
              "      <td>1</td>\n",
              "      <td>0</td>\n",
              "      <td>0</td>\n",
              "      <td>1</td>\n",
              "    </tr>\n",
              "    <tr>\n",
              "      <th>2</th>\n",
              "      <td>3</td>\n",
              "      <td>1</td>\n",
              "      <td>3</td>\n",
              "      <td>26.0</td>\n",
              "      <td>0</td>\n",
              "      <td>0</td>\n",
              "      <td>7.9250</td>\n",
              "      <td>1</td>\n",
              "      <td>0</td>\n",
              "      <td>0</td>\n",
              "      <td>0</td>\n",
              "      <td>1</td>\n",
              "      <td>0</td>\n",
              "    </tr>\n",
              "    <tr>\n",
              "      <th>3</th>\n",
              "      <td>4</td>\n",
              "      <td>1</td>\n",
              "      <td>1</td>\n",
              "      <td>35.0</td>\n",
              "      <td>1</td>\n",
              "      <td>0</td>\n",
              "      <td>53.1000</td>\n",
              "      <td>1</td>\n",
              "      <td>0</td>\n",
              "      <td>0</td>\n",
              "      <td>0</td>\n",
              "      <td>1</td>\n",
              "      <td>1</td>\n",
              "    </tr>\n",
              "    <tr>\n",
              "      <th>4</th>\n",
              "      <td>5</td>\n",
              "      <td>0</td>\n",
              "      <td>3</td>\n",
              "      <td>35.0</td>\n",
              "      <td>0</td>\n",
              "      <td>0</td>\n",
              "      <td>8.0500</td>\n",
              "      <td>0</td>\n",
              "      <td>1</td>\n",
              "      <td>0</td>\n",
              "      <td>0</td>\n",
              "      <td>1</td>\n",
              "      <td>0</td>\n",
              "    </tr>\n",
              "  </tbody>\n",
              "</table>\n",
              "</div>"
            ],
            "text/plain": [
              "   PassengerId  Survived  Pclass   Age  SibSp  ...  male  C  Q  S  Family\n",
              "0            1         0       3  22.0      1  ...     1  0  0  1       1\n",
              "1            2         1       1  38.0      1  ...     0  1  0  0       1\n",
              "2            3         1       3  26.0      0  ...     0  0  0  1       0\n",
              "3            4         1       1  35.0      1  ...     0  0  0  1       1\n",
              "4            5         0       3  35.0      0  ...     1  0  0  1       0\n",
              "\n",
              "[5 rows x 13 columns]"
            ]
          },
          "metadata": {},
          "execution_count": 74
        }
      ]
    },
    {
      "cell_type": "code",
      "metadata": {
        "colab": {
          "base_uri": "https://localhost:8080/",
          "height": 204
        },
        "id": "pT0HAfOPGD67",
        "outputId": "babfb496-2ae1-4454-aab5-f2d1307f4ce2"
      },
      "source": [
        "test.head()"
      ],
      "execution_count": 75,
      "outputs": [
        {
          "output_type": "execute_result",
          "data": {
            "text/html": [
              "<div>\n",
              "<style scoped>\n",
              "    .dataframe tbody tr th:only-of-type {\n",
              "        vertical-align: middle;\n",
              "    }\n",
              "\n",
              "    .dataframe tbody tr th {\n",
              "        vertical-align: top;\n",
              "    }\n",
              "\n",
              "    .dataframe thead th {\n",
              "        text-align: right;\n",
              "    }\n",
              "</style>\n",
              "<table border=\"1\" class=\"dataframe\">\n",
              "  <thead>\n",
              "    <tr style=\"text-align: right;\">\n",
              "      <th></th>\n",
              "      <th>PassengerId</th>\n",
              "      <th>Survived</th>\n",
              "      <th>Pclass</th>\n",
              "      <th>Age</th>\n",
              "      <th>SibSp</th>\n",
              "      <th>Parch</th>\n",
              "      <th>Fare</th>\n",
              "      <th>female</th>\n",
              "      <th>male</th>\n",
              "      <th>C</th>\n",
              "      <th>Q</th>\n",
              "      <th>S</th>\n",
              "      <th>Family</th>\n",
              "    </tr>\n",
              "  </thead>\n",
              "  <tbody>\n",
              "    <tr>\n",
              "      <th>0</th>\n",
              "      <td>892</td>\n",
              "      <td>0</td>\n",
              "      <td>3</td>\n",
              "      <td>34.5</td>\n",
              "      <td>0</td>\n",
              "      <td>0</td>\n",
              "      <td>7.8292</td>\n",
              "      <td>0</td>\n",
              "      <td>1</td>\n",
              "      <td>0</td>\n",
              "      <td>1</td>\n",
              "      <td>0</td>\n",
              "      <td>0</td>\n",
              "    </tr>\n",
              "    <tr>\n",
              "      <th>1</th>\n",
              "      <td>893</td>\n",
              "      <td>0</td>\n",
              "      <td>3</td>\n",
              "      <td>47.0</td>\n",
              "      <td>1</td>\n",
              "      <td>0</td>\n",
              "      <td>7.0000</td>\n",
              "      <td>1</td>\n",
              "      <td>0</td>\n",
              "      <td>0</td>\n",
              "      <td>0</td>\n",
              "      <td>1</td>\n",
              "      <td>1</td>\n",
              "    </tr>\n",
              "    <tr>\n",
              "      <th>2</th>\n",
              "      <td>894</td>\n",
              "      <td>0</td>\n",
              "      <td>2</td>\n",
              "      <td>62.0</td>\n",
              "      <td>0</td>\n",
              "      <td>0</td>\n",
              "      <td>9.6875</td>\n",
              "      <td>0</td>\n",
              "      <td>1</td>\n",
              "      <td>0</td>\n",
              "      <td>1</td>\n",
              "      <td>0</td>\n",
              "      <td>0</td>\n",
              "    </tr>\n",
              "    <tr>\n",
              "      <th>3</th>\n",
              "      <td>895</td>\n",
              "      <td>0</td>\n",
              "      <td>3</td>\n",
              "      <td>27.0</td>\n",
              "      <td>0</td>\n",
              "      <td>0</td>\n",
              "      <td>8.6625</td>\n",
              "      <td>0</td>\n",
              "      <td>1</td>\n",
              "      <td>0</td>\n",
              "      <td>0</td>\n",
              "      <td>1</td>\n",
              "      <td>0</td>\n",
              "    </tr>\n",
              "    <tr>\n",
              "      <th>4</th>\n",
              "      <td>896</td>\n",
              "      <td>0</td>\n",
              "      <td>3</td>\n",
              "      <td>22.0</td>\n",
              "      <td>1</td>\n",
              "      <td>1</td>\n",
              "      <td>12.2875</td>\n",
              "      <td>1</td>\n",
              "      <td>0</td>\n",
              "      <td>0</td>\n",
              "      <td>0</td>\n",
              "      <td>1</td>\n",
              "      <td>2</td>\n",
              "    </tr>\n",
              "  </tbody>\n",
              "</table>\n",
              "</div>"
            ],
            "text/plain": [
              "   PassengerId  Survived  Pclass   Age  SibSp  ...  male  C  Q  S  Family\n",
              "0          892         0       3  34.5      0  ...     1  0  1  0       0\n",
              "1          893         0       3  47.0      1  ...     0  0  0  1       1\n",
              "2          894         0       2  62.0      0  ...     1  0  1  0       0\n",
              "3          895         0       3  27.0      0  ...     1  0  0  1       0\n",
              "4          896         0       3  22.0      1  ...     0  0  0  1       2\n",
              "\n",
              "[5 rows x 13 columns]"
            ]
          },
          "metadata": {},
          "execution_count": 75
        }
      ]
    },
    {
      "cell_type": "markdown",
      "metadata": {
        "id": "AMUmOSYxGD4K"
      },
      "source": [
        "## 3. 예측 모델 함수 생성"
      ]
    },
    {
      "cell_type": "code",
      "metadata": {
        "id": "ZiqzUrX1GD1x"
      },
      "source": [
        "target = 'Survived'\n",
        "IDcol = 'PassengerId'"
      ],
      "execution_count": 77,
      "outputs": []
    },
    {
      "cell_type": "code",
      "metadata": {
        "id": "HVQLeASpGDy4"
      },
      "source": [
        "def modelfit(alg, dtrain, predictors,useTrainCV=True, cv_folds=5, early_stopping_rounds=100):\n",
        "   \n",
        "    # get new n_estimator\n",
        "    if useTrainCV:\n",
        "        xgb_param = alg.get_xgb_params()\n",
        "        xgtrain = xgb.DMatrix(dtrain[predictors].values, label=dtrain[target].values)\n",
        "        cvresult = xgb.cv(xgb_param, xgtrain, num_boost_round=alg.get_params()['n_estimators'], nfold=cv_folds,\n",
        "                          metrics='error', early_stopping_rounds=early_stopping_rounds)\n",
        "        alg.set_params(n_estimators=cvresult.shape[0])\n",
        "        print(alg)\n",
        "    \n",
        "    # Fit the algorithm on the data\n",
        "    alg.fit(dtrain[predictors], dtrain['Survived'], eval_metric='error')\n",
        "        \n",
        "    #Predict training set:\n",
        "    dtrain_predictions = alg.predict(dtrain[predictors])\n",
        "    dtrain_predprob = alg.predict_proba(dtrain[predictors])[:,1]\n",
        "        \n",
        "    #Print model report:\n",
        "    print(\"\\nModel Report\")\n",
        "    print(\"Training Accuracy : %.4g\" % metrics.accuracy_score(dtrain['Survived'].values, dtrain_predictions))"
      ],
      "execution_count": 79,
      "outputs": []
    },
    {
      "cell_type": "markdown",
      "metadata": {
        "id": "HdH_4-h_GDwh"
      },
      "source": [
        "## 4. 일반적인 Hyperparameter 튜닝 방법\n",
        "1. high learning rate(0.05 - 0.3)를 선택하고 이 학습률에 맞는 tree 개수를 선정한다. 책에서는 0.1 정도의 약간 큰 값으로 두었다가 세세한 모델 성능을 향상을 위해서는 0.01~0.05로 작게 줄이는 것을 추천한다.\n",
        "\n",
        "2. tree-specific parameter를 수정한다. (max_depth, min_child_weight, gamma, subsample, colsample_bytree)\n",
        "\n",
        "4. regularization parameter를 수정한다.\n",
        "\n",
        "5. 학습률을 낮추고 다시 반복한다."
      ]
    },
    {
      "cell_type": "markdown",
      "metadata": {
        "id": "cE5xlZRSF41u"
      },
      "source": [
        "### 참고자료 \n",
        "- [[파이썬 머신러닝 완벽 가이드] XGBoost 하이퍼 파라미터 정리](https://dsbook.tistory.com/172)\n",
        "- [[교재 P.340] PARAMETERS](https://sites.google.com/view/lauraepp/parameters)\n",
        "- [[교재 P.343~344] Complete Guide to Parameter Tuning in XGBoost with codes in Python](https://www.analyticsvidhya.com/blog/2016/03/complete-guide-parameter-tuning-xgboost-with-codes-python/)"
      ]
    },
    {
      "cell_type": "markdown",
      "metadata": {
        "id": "6zm_Zg6HGDt8"
      },
      "source": [
        "### Learning rate와 estimator 수를 고정한다.\n",
        "초기값은 다음과 같이 선정한다.\n",
        "\n",
        "1. max_depth = 5: 보통 4-6 를 시작점으로 한다.\n",
        "\n",
        "2. min_child_weight = 1 : 향후에 튜닝할 것이다.\n",
        "\n",
        "3. gamma = 0 : 0.1 - 0.2로 시작해도 된다. 그런데 어짜피 튜닝할 것이다.\n",
        "\n",
        "4. subsample, colsample_bytree = 0.8 : 보통 0.5 - 0.9로 시작한다.\n",
        "\n",
        "5. scale_pos_weight = 1: Because of high class imbalance."
      ]
    },
    {
      "cell_type": "code",
      "metadata": {
        "colab": {
          "base_uri": "https://localhost:8080/"
        },
        "id": "jY-lGCBTGDro",
        "outputId": "a22f6099-cc0d-40fb-a5e7-162865c48ee6"
      },
      "source": [
        "predictors = [x for x in train.columns if x not in [target, IDcol]]\n",
        "xgb1 = XGBClassifier(\n",
        "    learning_rate =0.1,\n",
        "    n_estimators=1000,\n",
        "    max_depth=5,  # Tree 깊이 수\n",
        "    min_child_weight=1,  \n",
        "    gamma=0,  # 결정트리를 split하기 위해 최소한으로 줄어햐는 loss 값\n",
        "    subsample=0.8,\n",
        "    colsample_bytree=0.8,\n",
        "    objective= 'binary:logistic',\n",
        "    nthread=-1,\n",
        "    scale_pos_weight=1,\n",
        "    seed=2019\n",
        ")\n",
        "modelfit(xgb1, train, predictors)"
      ],
      "execution_count": 82,
      "outputs": [
        {
          "output_type": "stream",
          "name": "stdout",
          "text": [
            "XGBClassifier(base_score=0.5, booster='gbtree', colsample_bylevel=1,\n",
            "              colsample_bynode=1, colsample_bytree=0.8, gamma=0,\n",
            "              learning_rate=0.1, max_delta_step=0, max_depth=5,\n",
            "              min_child_weight=1, missing=None, n_estimators=89, n_jobs=1,\n",
            "              nthread=-1, objective='binary:logistic', random_state=0,\n",
            "              reg_alpha=0, reg_lambda=1, scale_pos_weight=1, seed=2019,\n",
            "              silent=None, subsample=0.8, verbosity=1)\n",
            "\n",
            "Model Report\n",
            "Training Accuracy : 0.9068\n"
          ]
        }
      ]
    },
    {
      "cell_type": "markdown",
      "metadata": {
        "id": "NOI6e5XKGDpS"
      },
      "source": [
        "### max_depth와 min_child_weight를 튜닝한다."
      ]
    },
    {
      "cell_type": "code",
      "metadata": {
        "colab": {
          "base_uri": "https://localhost:8080/"
        },
        "id": "3436IiMeGDlu",
        "outputId": "1d722c37-9a8c-44d5-858a-98ca490552b5"
      },
      "source": [
        "param_test1 = {\n",
        " 'max_depth':range(3,10,3),  # max_depth : 3,6,9\n",
        " 'min_child_weight':range(1,6,2)  # min_child_weight : 1,3,5\n",
        "}\n",
        "gsearch1 = GridSearchCV(estimator = XGBClassifier(learning_rate=0.1, \n",
        "                                                  n_estimators=1000, \n",
        "                                                  max_depth=5, \n",
        "                                                  min_child_weight=1, \n",
        "                                                  gamma=0, \n",
        "                                                  subsample=0.8, \n",
        "                                                  colsample_bytree=0.8,\n",
        "                                                  objective= 'binary:logistic', \n",
        "                                                  nthread=-1, \n",
        "                                                  scale_pos_weight=1, seed=2019),\n",
        "param_grid = param_test1, scoring='accuracy',n_jobs=-1,iid=False, cv=5, verbose=10)\n",
        "gsearch1.fit(train[predictors],train[target])\n",
        "gsearch1.cv_results_, gsearch1.best_params_, gsearch1.best_score_"
      ],
      "execution_count": 83,
      "outputs": [
        {
          "output_type": "stream",
          "name": "stdout",
          "text": [
            "Fitting 5 folds for each of 9 candidates, totalling 45 fits\n"
          ]
        },
        {
          "output_type": "stream",
          "name": "stderr",
          "text": [
            "[Parallel(n_jobs=-1)]: Using backend LokyBackend with 2 concurrent workers.\n",
            "[Parallel(n_jobs=-1)]: Done   1 tasks      | elapsed:    2.1s\n",
            "[Parallel(n_jobs=-1)]: Done   4 tasks      | elapsed:    3.0s\n",
            "[Parallel(n_jobs=-1)]: Done   9 tasks      | elapsed:    4.8s\n",
            "[Parallel(n_jobs=-1)]: Done  14 tasks      | elapsed:    6.3s\n",
            "[Parallel(n_jobs=-1)]: Done  21 tasks      | elapsed:    9.9s\n",
            "[Parallel(n_jobs=-1)]: Done  28 tasks      | elapsed:   13.2s\n",
            "[Parallel(n_jobs=-1)]: Done  37 tasks      | elapsed:   18.2s\n",
            "[Parallel(n_jobs=-1)]: Done  45 out of  45 | elapsed:   21.8s finished\n",
            "/usr/local/lib/python3.7/dist-packages/sklearn/model_selection/_search.py:823: FutureWarning: The parameter 'iid' is deprecated in 0.22 and will be removed in 0.24.\n",
            "  \"removed in 0.24.\", FutureWarning\n"
          ]
        },
        {
          "output_type": "execute_result",
          "data": {
            "text/plain": [
              "({'mean_fit_time': array([0.68301687, 0.64508514, 0.64063148, 1.03520069, 0.9458231 ,\n",
              "         0.87879896, 1.17142749, 0.99922757, 0.83963957]),\n",
              "  'mean_score_time': array([0.01314387, 0.01244397, 0.01185179, 0.01927223, 0.01755843,\n",
              "         0.01532421, 0.02078071, 0.01776881, 0.01494603]),\n",
              "  'mean_test_score': array([0.81934593, 0.8260875 , 0.83614965, 0.80810997, 0.81259808,\n",
              "         0.84176135, 0.80473919, 0.81483272, 0.83839684]),\n",
              "  'param_max_depth': masked_array(data=[3, 3, 3, 6, 6, 6, 9, 9, 9],\n",
              "               mask=[False, False, False, False, False, False, False, False,\n",
              "                     False],\n",
              "         fill_value='?',\n",
              "              dtype=object),\n",
              "  'param_min_child_weight': masked_array(data=[1, 3, 5, 1, 3, 5, 1, 3, 5],\n",
              "               mask=[False, False, False, False, False, False, False, False,\n",
              "                     False],\n",
              "         fill_value='?',\n",
              "              dtype=object),\n",
              "  'params': [{'max_depth': 3, 'min_child_weight': 1},\n",
              "   {'max_depth': 3, 'min_child_weight': 3},\n",
              "   {'max_depth': 3, 'min_child_weight': 5},\n",
              "   {'max_depth': 6, 'min_child_weight': 1},\n",
              "   {'max_depth': 6, 'min_child_weight': 3},\n",
              "   {'max_depth': 6, 'min_child_weight': 5},\n",
              "   {'max_depth': 9, 'min_child_weight': 1},\n",
              "   {'max_depth': 9, 'min_child_weight': 3},\n",
              "   {'max_depth': 9, 'min_child_weight': 5}],\n",
              "  'rank_test_score': array([5, 4, 3, 8, 7, 1, 9, 6, 2], dtype=int32),\n",
              "  'split0_test_score': array([0.78212291, 0.78212291, 0.82681564, 0.78212291, 0.7877095 ,\n",
              "         0.83240223, 0.78212291, 0.79888268, 0.82681564]),\n",
              "  'split1_test_score': array([0.81460674, 0.82022472, 0.8258427 , 0.81460674, 0.8258427 ,\n",
              "         0.83146067, 0.80898876, 0.81460674, 0.82022472]),\n",
              "  'split2_test_score': array([0.86516854, 0.85955056, 0.86516854, 0.83707865, 0.83707865,\n",
              "         0.86516854, 0.83707865, 0.84831461, 0.85393258]),\n",
              "  'split3_test_score': array([0.78089888, 0.82022472, 0.8258427 , 0.79775281, 0.76966292,\n",
              "         0.83146067, 0.7752809 , 0.76966292, 0.83707865]),\n",
              "  'split4_test_score': array([0.85393258, 0.84831461, 0.83707865, 0.80898876, 0.84269663,\n",
              "         0.84831461, 0.82022472, 0.84269663, 0.85393258]),\n",
              "  'std_fit_time': array([0.02627945, 0.01165975, 0.00628526, 0.01621814, 0.00406183,\n",
              "         0.02023137, 0.01374079, 0.01129395, 0.08242085]),\n",
              "  'std_score_time': array([0.00229718, 0.0015685 , 0.00010132, 0.00035398, 0.00022238,\n",
              "         0.00043435, 0.0006792 , 0.00043661, 0.00158789]),\n",
              "  'std_test_score': array([0.03516287, 0.02689034, 0.01511654, 0.01824699, 0.02878719,\n",
              "         0.01334648, 0.02316458, 0.02895583, 0.01377539])},\n",
              " {'max_depth': 6, 'min_child_weight': 5},\n",
              " 0.8417613458037788)"
            ]
          },
          "metadata": {},
          "execution_count": 83
        }
      ]
    },
    {
      "cell_type": "markdown",
      "metadata": {
        "id": "3bdDDhrIGDil"
      },
      "source": [
        "### Gamma를 튜닝한다."
      ]
    },
    {
      "cell_type": "code",
      "metadata": {
        "colab": {
          "base_uri": "https://localhost:8080/"
        },
        "id": "tUyrMN6kGDaV",
        "outputId": "2d098dfc-0a62-4128-c9a5-1353c1d24729"
      },
      "source": [
        "param_test2 = {\n",
        " 'gamma':[i/10.0 for i in range(0,5)]  # gamma 값 : 0 ~ 0.4\n",
        "}\n",
        "gsearch2 = GridSearchCV(estimator = XGBClassifier(learning_rate =0.1, \n",
        "                                                  n_estimators=1000, \n",
        "                                                  max_depth=3,\n",
        "                                                  min_child_weight=5, \n",
        "                                                  gamma=0, \n",
        "                                                  subsample=0.8, \n",
        "                                                  colsample_bytree=0.8,\n",
        "                                                  objective= 'binary:logistic', \n",
        "                                                  thread=-1, \n",
        "                                                  scale_pos_weight=1,\n",
        "                                                  seed=2019), \n",
        "                        param_grid = param_test2, scoring='accuracy', n_jobs=-1, iid=False, cv=5)\n",
        "gsearch2.fit(train[predictors],train[target])\n",
        "gsearch2.cv_results_, gsearch2.best_params_, gsearch2.best_score_"
      ],
      "execution_count": 84,
      "outputs": [
        {
          "output_type": "stream",
          "name": "stderr",
          "text": [
            "/usr/local/lib/python3.7/dist-packages/sklearn/model_selection/_search.py:823: FutureWarning: The parameter 'iid' is deprecated in 0.22 and will be removed in 0.24.\n",
            "  \"removed in 0.24.\", FutureWarning\n"
          ]
        },
        {
          "output_type": "execute_result",
          "data": {
            "text/plain": [
              "({'mean_fit_time': array([0.65210218, 0.64534311, 0.63520217, 0.63858113, 0.61695189]),\n",
              "  'mean_score_time': array([0.01335659, 0.01396918, 0.01369114, 0.01214309, 0.01155682]),\n",
              "  'mean_test_score': array([0.83614965, 0.83278514, 0.8361622 , 0.83840939, 0.83614965]),\n",
              "  'param_gamma': masked_array(data=[0.0, 0.1, 0.2, 0.3, 0.4],\n",
              "               mask=[False, False, False, False, False],\n",
              "         fill_value='?',\n",
              "              dtype=object),\n",
              "  'params': [{'gamma': 0.0},\n",
              "   {'gamma': 0.1},\n",
              "   {'gamma': 0.2},\n",
              "   {'gamma': 0.3},\n",
              "   {'gamma': 0.4}],\n",
              "  'rank_test_score': array([3, 5, 2, 1, 3], dtype=int32),\n",
              "  'split0_test_score': array([0.82681564, 0.82122905, 0.81564246, 0.81564246, 0.82681564]),\n",
              "  'split1_test_score': array([0.8258427 , 0.80898876, 0.8258427 , 0.82022472, 0.82022472]),\n",
              "  'split2_test_score': array([0.86516854, 0.85393258, 0.85955056, 0.87078652, 0.86516854]),\n",
              "  'split3_test_score': array([0.8258427 , 0.83707865, 0.83707865, 0.83707865, 0.83146067]),\n",
              "  'split4_test_score': array([0.83707865, 0.84269663, 0.84269663, 0.84831461, 0.83707865]),\n",
              "  'std_fit_time': array([0.01190236, 0.01398196, 0.00526916, 0.01181439, 0.082742  ]),\n",
              "  'std_score_time': array([1.08266415e-03, 2.50660377e-03, 2.16175084e-03, 3.71772169e-05,\n",
              "         1.33706349e-03]),\n",
              "  'std_test_score': array([0.01511654, 0.01589778, 0.01495397, 0.01998588, 0.01552851])},\n",
              " {'gamma': 0.3},\n",
              " 0.8384093904965162)"
            ]
          },
          "metadata": {},
          "execution_count": 84
        }
      ]
    },
    {
      "cell_type": "markdown",
      "metadata": {
        "id": "qF3SM1xfJDhW"
      },
      "source": [
        "### subsample and colsample_bytree를 튜닝한다."
      ]
    },
    {
      "cell_type": "code",
      "metadata": {
        "colab": {
          "base_uri": "https://localhost:8080/"
        },
        "id": "zqd-0kZiJHTu",
        "outputId": "3fa65fa2-4876-4ae6-93c3-db1c6d163d5d"
      },
      "source": [
        "param_test3 = {\n",
        " 'subsample':[i/10.0 for i in range(6,10)],  # sumsample : 0.6 ~ 0.9\n",
        " 'colsample_bytree':[i/10.0 for i in range(6,10)]  # colsample_bytreee : 0.6 ~ 0.9\n",
        "}\n",
        "gsearch3 = GridSearchCV(estimator = XGBClassifier(learning_rate =0.1, \n",
        "                                                  n_estimators=1000, \n",
        "                                                  max_depth=3,\n",
        "                                                  min_child_weight=5, \n",
        "                                                  gamma=0, \n",
        "                                                  subsample=0.8, \n",
        "                                                  colsample_bytree=0.8,\n",
        "                                                  objective= 'binary:logistic', \n",
        "                                                  thread=-1, \n",
        "                                                  scale_pos_weight=1,\n",
        "                                                  seed=2019), \n",
        "                        param_grid = param_test3, scoring='accuracy', n_jobs=-1, iid=False, cv=5, verbose=10)\n",
        "gsearch3.fit(train[predictors],train[target])\n",
        "gsearch3.cv_results_, gsearch3.best_params_, gsearch3.best_score_"
      ],
      "execution_count": 85,
      "outputs": [
        {
          "output_type": "stream",
          "name": "stdout",
          "text": [
            "Fitting 5 folds for each of 16 candidates, totalling 80 fits\n"
          ]
        },
        {
          "output_type": "stream",
          "name": "stderr",
          "text": [
            "[Parallel(n_jobs=-1)]: Using backend LokyBackend with 2 concurrent workers.\n",
            "[Parallel(n_jobs=-1)]: Done   1 tasks      | elapsed:    0.6s\n",
            "[Parallel(n_jobs=-1)]: Done   4 tasks      | elapsed:    1.3s\n",
            "[Parallel(n_jobs=-1)]: Done   9 tasks      | elapsed:    3.2s\n",
            "[Parallel(n_jobs=-1)]: Done  14 tasks      | elapsed:    4.5s\n",
            "[Parallel(n_jobs=-1)]: Done  21 tasks      | elapsed:    7.0s\n",
            "[Parallel(n_jobs=-1)]: Done  28 tasks      | elapsed:    9.0s\n",
            "[Parallel(n_jobs=-1)]: Done  37 tasks      | elapsed:   12.1s\n",
            "[Parallel(n_jobs=-1)]: Done  46 tasks      | elapsed:   14.8s\n",
            "[Parallel(n_jobs=-1)]: Done  57 tasks      | elapsed:   18.8s\n",
            "[Parallel(n_jobs=-1)]: Done  68 tasks      | elapsed:   22.4s\n",
            "[Parallel(n_jobs=-1)]: Done  80 out of  80 | elapsed:   26.5s finished\n",
            "/usr/local/lib/python3.7/dist-packages/sklearn/model_selection/_search.py:823: FutureWarning: The parameter 'iid' is deprecated in 0.22 and will be removed in 0.24.\n",
            "  \"removed in 0.24.\", FutureWarning\n"
          ]
        },
        {
          "output_type": "execute_result",
          "data": {
            "text/plain": [
              "({'mean_fit_time': array([0.63207078, 0.61225033, 0.59750051, 0.59082613, 0.6418448 ,\n",
              "         0.62956414, 0.62030816, 0.59811621, 0.6722909 , 0.66615238,\n",
              "         0.63720217, 0.62892957, 0.6975903 , 0.69148521, 0.67418766,\n",
              "         0.65685024]),\n",
              "  'mean_score_time': array([0.01323066, 0.01366973, 0.0133647 , 0.01307411, 0.01357274,\n",
              "         0.01310215, 0.01369052, 0.01413774, 0.01234255, 0.01284728,\n",
              "         0.01273198, 0.01245623, 0.01260357, 0.01287141, 0.01290121,\n",
              "         0.01204438]),\n",
              "  'mean_test_score': array([0.84288494, 0.8361622 , 0.83614965, 0.84063775, 0.8395016 ,\n",
              "         0.83953926, 0.83616848, 0.84287866, 0.83839684, 0.83616848,\n",
              "         0.83614965, 0.84176135, 0.83727952, 0.83391501, 0.83279141,\n",
              "         0.83054422]),\n",
              "  'param_colsample_bytree': masked_array(data=[0.6, 0.6, 0.6, 0.6, 0.7, 0.7, 0.7, 0.7, 0.8, 0.8, 0.8,\n",
              "                     0.8, 0.9, 0.9, 0.9, 0.9],\n",
              "               mask=[False, False, False, False, False, False, False, False,\n",
              "                     False, False, False, False, False, False, False, False],\n",
              "         fill_value='?',\n",
              "              dtype=object),\n",
              "  'param_subsample': masked_array(data=[0.6, 0.7, 0.8, 0.9, 0.6, 0.7, 0.8, 0.9, 0.6, 0.7, 0.8,\n",
              "                     0.9, 0.6, 0.7, 0.8, 0.9],\n",
              "               mask=[False, False, False, False, False, False, False, False,\n",
              "                     False, False, False, False, False, False, False, False],\n",
              "         fill_value='?',\n",
              "              dtype=object),\n",
              "  'params': [{'colsample_bytree': 0.6, 'subsample': 0.6},\n",
              "   {'colsample_bytree': 0.6, 'subsample': 0.7},\n",
              "   {'colsample_bytree': 0.6, 'subsample': 0.8},\n",
              "   {'colsample_bytree': 0.6, 'subsample': 0.9},\n",
              "   {'colsample_bytree': 0.7, 'subsample': 0.6},\n",
              "   {'colsample_bytree': 0.7, 'subsample': 0.7},\n",
              "   {'colsample_bytree': 0.7, 'subsample': 0.8},\n",
              "   {'colsample_bytree': 0.7, 'subsample': 0.9},\n",
              "   {'colsample_bytree': 0.8, 'subsample': 0.6},\n",
              "   {'colsample_bytree': 0.8, 'subsample': 0.7},\n",
              "   {'colsample_bytree': 0.8, 'subsample': 0.8},\n",
              "   {'colsample_bytree': 0.8, 'subsample': 0.9},\n",
              "   {'colsample_bytree': 0.9, 'subsample': 0.6},\n",
              "   {'colsample_bytree': 0.9, 'subsample': 0.7},\n",
              "   {'colsample_bytree': 0.9, 'subsample': 0.8},\n",
              "   {'colsample_bytree': 0.9, 'subsample': 0.9}],\n",
              "  'rank_test_score': array([ 1, 11, 12,  4,  6,  5,  9,  2,  7, 10, 12,  3,  8, 14, 15, 16],\n",
              "        dtype=int32),\n",
              "  'split0_test_score': array([0.83240223, 0.81564246, 0.82681564, 0.83240223, 0.84357542,\n",
              "         0.81005587, 0.81005587, 0.83798883, 0.82681564, 0.81005587,\n",
              "         0.82681564, 0.83240223, 0.82122905, 0.81564246, 0.81564246,\n",
              "         0.81564246]),\n",
              "  'split1_test_score': array([0.83707865, 0.8258427 , 0.83146067, 0.82022472, 0.82022472,\n",
              "         0.83146067, 0.82022472, 0.82022472, 0.83146067, 0.8258427 ,\n",
              "         0.8258427 , 0.83146067, 0.8258427 , 0.83146067, 0.82022472,\n",
              "         0.82022472]),\n",
              "  'split2_test_score': array([0.87078652, 0.87078652, 0.87078652, 0.87640449, 0.85955056,\n",
              "         0.87078652, 0.87640449, 0.87078652, 0.88202247, 0.86516854,\n",
              "         0.86516854, 0.87640449, 0.85955056, 0.85955056, 0.86516854,\n",
              "         0.85393258]),\n",
              "  'split3_test_score': array([0.84269663, 0.83146067, 0.82022472, 0.83707865, 0.83707865,\n",
              "         0.83707865, 0.83146067, 0.83707865, 0.8258427 , 0.83707865,\n",
              "         0.8258427 , 0.83707865, 0.83707865, 0.83146067, 0.82022472,\n",
              "         0.82022472]),\n",
              "  'split4_test_score': array([0.83146067, 0.83707865, 0.83146067, 0.83707865, 0.83707865,\n",
              "         0.84831461, 0.84269663, 0.84831461, 0.8258427 , 0.84269663,\n",
              "         0.83707865, 0.83146067, 0.84269663, 0.83146067, 0.84269663,\n",
              "         0.84269663]),\n",
              "  'std_fit_time': array([0.01168276, 0.01041612, 0.01715648, 0.02279172, 0.00678027,\n",
              "         0.0035906 , 0.00779661, 0.00662819, 0.01456664, 0.01201281,\n",
              "         0.00623606, 0.0109388 , 0.01454903, 0.00573611, 0.00718352,\n",
              "         0.00597662]),\n",
              "  'std_score_time': array([0.00084521, 0.00118978, 0.0011924 , 0.00048944, 0.00074964,\n",
              "         0.00026556, 0.0019425 , 0.00183912, 0.00011699, 0.0004412 ,\n",
              "         0.00056998, 0.00018071, 0.00026771, 0.0003382 , 0.00020213,\n",
              "         0.00152899]),\n",
              "  'std_test_score': array([0.01450963, 0.01870476, 0.01780119, 0.01891618, 0.01266409,\n",
              "         0.01996991, 0.02289013, 0.01660813, 0.02191184, 0.01829174,\n",
              "         0.01511654, 0.01744635, 0.0135189 , 0.01420661, 0.01874205,\n",
              "         0.01503159])},\n",
              " {'colsample_bytree': 0.6, 'subsample': 0.6},\n",
              " 0.8428849413093967)"
            ]
          },
          "metadata": {},
          "execution_count": 85
        }
      ]
    },
    {
      "cell_type": "markdown",
      "metadata": {
        "id": "NxxifAdgJN6_"
      },
      "source": [
        "### subsample 추가 튜닝하기"
      ]
    },
    {
      "cell_type": "code",
      "metadata": {
        "colab": {
          "base_uri": "https://localhost:8080/"
        },
        "id": "b8kafFszJNxP",
        "outputId": "d87958a1-2458-4e55-ce80-8b7c327a2d1a"
      },
      "source": [
        "param_test4 = {\n",
        " 'subsample':[i/100.0 for i in range(40,80)],  # subsample : 0.4 ~ 0.79\n",
        "}\n",
        "gsearch4 = GridSearchCV(estimator = XGBClassifier(learning_rate =0.1, \n",
        "                                                  n_estimators=1000, \n",
        "                                                  max_depth=3,\n",
        "                                                  min_child_weight=5, \n",
        "                                                  gamma=0, \n",
        "                                                  subsample=0.6, \n",
        "                                                  colsample_bytree=0.8,\n",
        "                                                  objective= 'binary:logistic', \n",
        "                                                  thread=-1, \n",
        "                                                  scale_pos_weight=1,\n",
        "                                                  seed=2019), \n",
        "                        param_grid = param_test4, scoring='accuracy', n_jobs=-1, iid=False, cv=5, verbose=10)\n",
        "gsearch4.fit(train[predictors],train[target])\n",
        "gsearch4.cv_results_, gsearch4.best_params_, gsearch4.best_score_"
      ],
      "execution_count": 86,
      "outputs": [
        {
          "output_type": "stream",
          "name": "stdout",
          "text": [
            "Fitting 5 folds for each of 40 candidates, totalling 200 fits\n"
          ]
        },
        {
          "output_type": "stream",
          "name": "stderr",
          "text": [
            "[Parallel(n_jobs=-1)]: Using backend LokyBackend with 2 concurrent workers.\n",
            "[Parallel(n_jobs=-1)]: Done   1 tasks      | elapsed:    0.7s\n",
            "[Parallel(n_jobs=-1)]: Done   4 tasks      | elapsed:    1.4s\n",
            "[Parallel(n_jobs=-1)]: Done   9 tasks      | elapsed:    3.3s\n",
            "[Parallel(n_jobs=-1)]: Done  14 tasks      | elapsed:    4.7s\n",
            "[Parallel(n_jobs=-1)]: Done  21 tasks      | elapsed:    7.2s\n",
            "[Parallel(n_jobs=-1)]: Done  28 tasks      | elapsed:    9.4s\n",
            "[Parallel(n_jobs=-1)]: Done  37 tasks      | elapsed:   12.6s\n",
            "[Parallel(n_jobs=-1)]: Done  46 tasks      | elapsed:   15.4s\n",
            "[Parallel(n_jobs=-1)]: Done  57 tasks      | elapsed:   19.4s\n",
            "[Parallel(n_jobs=-1)]: Done  68 tasks      | elapsed:   22.9s\n",
            "[Parallel(n_jobs=-1)]: Done  81 tasks      | elapsed:   27.6s\n",
            "[Parallel(n_jobs=-1)]: Done  94 tasks      | elapsed:   31.8s\n",
            "[Parallel(n_jobs=-1)]: Done 109 tasks      | elapsed:   37.3s\n",
            "[Parallel(n_jobs=-1)]: Done 124 tasks      | elapsed:   42.1s\n",
            "[Parallel(n_jobs=-1)]: Done 141 tasks      | elapsed:   48.2s\n",
            "[Parallel(n_jobs=-1)]: Done 158 tasks      | elapsed:   53.7s\n",
            "[Parallel(n_jobs=-1)]: Done 177 tasks      | elapsed:  1.0min\n",
            "[Parallel(n_jobs=-1)]: Done 196 tasks      | elapsed:  1.1min\n",
            "[Parallel(n_jobs=-1)]: Done 200 out of 200 | elapsed:  1.1min finished\n",
            "/usr/local/lib/python3.7/dist-packages/sklearn/model_selection/_search.py:823: FutureWarning: The parameter 'iid' is deprecated in 0.22 and will be removed in 0.24.\n",
            "  \"removed in 0.24.\", FutureWarning\n"
          ]
        },
        {
          "output_type": "execute_result",
          "data": {
            "text/plain": [
              "({'mean_fit_time': array([0.65946054, 0.64522891, 0.62911272, 0.63532696, 0.63639398,\n",
              "         0.65145659, 0.64921837, 0.65104561, 0.65007119, 0.66097693,\n",
              "         0.65823164, 0.67084284, 0.65685506, 0.66359406, 0.66789637,\n",
              "         0.6639173 , 0.6683116 , 0.67224703, 0.66379995, 0.66279116,\n",
              "         0.66514497, 0.6690289 , 0.66643524, 0.66407752, 0.66187081,\n",
              "         0.6621335 , 0.66525922, 0.67085414, 0.65909705, 0.66315789,\n",
              "         0.65126495, 0.65374403, 0.65614033, 0.6507606 , 0.6478888 ,\n",
              "         0.65571456, 0.6576457 , 0.64710779, 0.64582963, 0.63873701]),\n",
              "  'mean_score_time': array([0.01234341, 0.01275396, 0.01207848, 0.01490369, 0.01199074,\n",
              "         0.01236916, 0.01248903, 0.01354685, 0.01257982, 0.01252813,\n",
              "         0.01251316, 0.0129437 , 0.01280789, 0.01257563, 0.01280451,\n",
              "         0.01291828, 0.01305971, 0.01320467, 0.01305842, 0.01410842,\n",
              "         0.01418252, 0.01472464, 0.0126595 , 0.01312318, 0.01297975,\n",
              "         0.01286564, 0.01299191, 0.01287999, 0.01309476, 0.0128613 ,\n",
              "         0.01277194, 0.01283226, 0.01325002, 0.01586804, 0.01335282,\n",
              "         0.01511636, 0.01320524, 0.01305842, 0.01357508, 0.01351237]),\n",
              "  'mean_test_score': array([0.8406252 , 0.83949532, 0.84398343, 0.83613709, 0.8462369 ,\n",
              "         0.83951415, 0.83950788, 0.83950788, 0.84510702, 0.84622434,\n",
              "         0.83837173, 0.84398343, 0.84398971, 0.84287866, 0.84400226,\n",
              "         0.84511958, 0.8395016 , 0.83727324, 0.83726069, 0.84511958,\n",
              "         0.83839684, 0.84287866, 0.83840939, 0.83838428, 0.84175507,\n",
              "         0.83727952, 0.83840311, 0.8417739 , 0.8361622 , 0.83280397,\n",
              "         0.83616848, 0.83617475, 0.8350386 , 0.8361622 , 0.83952043,\n",
              "         0.83728579, 0.83727324, 0.84400854, 0.8361622 , 0.83615592]),\n",
              "  'param_subsample': masked_array(data=[0.4, 0.41, 0.42, 0.43, 0.44, 0.45, 0.46, 0.47, 0.48,\n",
              "                     0.49, 0.5, 0.51, 0.52, 0.53, 0.54, 0.55, 0.56, 0.57,\n",
              "                     0.58, 0.59, 0.6, 0.61, 0.62, 0.63, 0.64, 0.65, 0.66,\n",
              "                     0.67, 0.68, 0.69, 0.7, 0.71, 0.72, 0.73, 0.74, 0.75,\n",
              "                     0.76, 0.77, 0.78, 0.79],\n",
              "               mask=[False, False, False, False, False, False, False, False,\n",
              "                     False, False, False, False, False, False, False, False,\n",
              "                     False, False, False, False, False, False, False, False,\n",
              "                     False, False, False, False, False, False, False, False,\n",
              "                     False, False, False, False, False, False, False, False],\n",
              "         fill_value='?',\n",
              "              dtype=object),\n",
              "  'params': [{'subsample': 0.4},\n",
              "   {'subsample': 0.41},\n",
              "   {'subsample': 0.42},\n",
              "   {'subsample': 0.43},\n",
              "   {'subsample': 0.44},\n",
              "   {'subsample': 0.45},\n",
              "   {'subsample': 0.46},\n",
              "   {'subsample': 0.47},\n",
              "   {'subsample': 0.48},\n",
              "   {'subsample': 0.49},\n",
              "   {'subsample': 0.5},\n",
              "   {'subsample': 0.51},\n",
              "   {'subsample': 0.52},\n",
              "   {'subsample': 0.53},\n",
              "   {'subsample': 0.54},\n",
              "   {'subsample': 0.55},\n",
              "   {'subsample': 0.56},\n",
              "   {'subsample': 0.57},\n",
              "   {'subsample': 0.58},\n",
              "   {'subsample': 0.59},\n",
              "   {'subsample': 0.6},\n",
              "   {'subsample': 0.61},\n",
              "   {'subsample': 0.62},\n",
              "   {'subsample': 0.63},\n",
              "   {'subsample': 0.64},\n",
              "   {'subsample': 0.65},\n",
              "   {'subsample': 0.66},\n",
              "   {'subsample': 0.67},\n",
              "   {'subsample': 0.68},\n",
              "   {'subsample': 0.69},\n",
              "   {'subsample': 0.7},\n",
              "   {'subsample': 0.71},\n",
              "   {'subsample': 0.72},\n",
              "   {'subsample': 0.73},\n",
              "   {'subsample': 0.74},\n",
              "   {'subsample': 0.75},\n",
              "   {'subsample': 0.76},\n",
              "   {'subsample': 0.77},\n",
              "   {'subsample': 0.78},\n",
              "   {'subsample': 0.79}],\n",
              "  'rank_test_score': array([15, 21,  9, 38,  1, 17, 19, 18,  5,  2, 26,  9,  8, 11,  7,  4, 20,\n",
              "         29, 31,  3, 24, 11, 22, 25, 14, 28, 23, 13, 34, 40, 33, 32, 39, 35,\n",
              "         16, 27, 29,  6, 35, 37], dtype=int32),\n",
              "  'split0_test_score': array([0.84357542, 0.84916201, 0.8547486 , 0.83798883, 0.84916201,\n",
              "         0.83240223, 0.83798883, 0.83798883, 0.8547486 , 0.8603352 ,\n",
              "         0.84916201, 0.8547486 , 0.84916201, 0.83798883, 0.83798883,\n",
              "         0.84357542, 0.84357542, 0.82681564, 0.83798883, 0.84357542,\n",
              "         0.82681564, 0.83798883, 0.81564246, 0.83798883, 0.83798883,\n",
              "         0.82122905, 0.82122905, 0.82122905, 0.81564246, 0.80446927,\n",
              "         0.81005587, 0.80446927, 0.81564246, 0.81564246, 0.82681564,\n",
              "         0.81564246, 0.82681564, 0.83240223, 0.81564246, 0.82122905]),\n",
              "  'split1_test_score': array([0.82022472, 0.82022472, 0.8258427 , 0.8258427 , 0.83146067,\n",
              "         0.82022472, 0.8258427 , 0.80898876, 0.83707865, 0.8258427 ,\n",
              "         0.83146067, 0.83146067, 0.8258427 , 0.8258427 , 0.82022472,\n",
              "         0.83146067, 0.8258427 , 0.8258427 , 0.83146067, 0.83146067,\n",
              "         0.83146067, 0.8258427 , 0.82022472, 0.82022472, 0.82022472,\n",
              "         0.82022472, 0.8258427 , 0.8258427 , 0.83146067, 0.8258427 ,\n",
              "         0.8258427 , 0.8258427 , 0.82022472, 0.8258427 , 0.83707865,\n",
              "         0.83707865, 0.8258427 , 0.83146067, 0.83146067, 0.83146067]),\n",
              "  'split2_test_score': array([0.87078652, 0.87640449, 0.87640449, 0.86516854, 0.88202247,\n",
              "         0.87640449, 0.87078652, 0.87640449, 0.88202247, 0.87640449,\n",
              "         0.86516854, 0.87078652, 0.87640449, 0.88202247, 0.88764045,\n",
              "         0.86516854, 0.85955056, 0.86516854, 0.86516854, 0.87078652,\n",
              "         0.88202247, 0.86516854, 0.88202247, 0.85955056, 0.87078652,\n",
              "         0.87640449, 0.86516854, 0.88202247, 0.87078652, 0.87078652,\n",
              "         0.86516854, 0.87640449, 0.86516854, 0.86516854, 0.87078652,\n",
              "         0.87078652, 0.86516854, 0.86516854, 0.85393258, 0.86516854]),\n",
              "  'split3_test_score': array([0.83146067, 0.8258427 , 0.83146067, 0.8258427 , 0.83707865,\n",
              "         0.83707865, 0.83707865, 0.84831461, 0.83146067, 0.8258427 ,\n",
              "         0.8258427 , 0.83707865, 0.83707865, 0.83707865, 0.83707865,\n",
              "         0.84269663, 0.83146067, 0.8258427 , 0.8258427 , 0.8258427 ,\n",
              "         0.8258427 , 0.83146067, 0.83146067, 0.83707865, 0.83707865,\n",
              "         0.83146067, 0.83707865, 0.83146067, 0.8258427 , 0.83146067,\n",
              "         0.83707865, 0.83707865, 0.83707865, 0.83146067, 0.83146067,\n",
              "         0.83146067, 0.8258427 , 0.83707865, 0.83707865, 0.83146067]),\n",
              "  'split4_test_score': array([0.83707865, 0.8258427 , 0.83146067, 0.8258427 , 0.83146067,\n",
              "         0.83146067, 0.8258427 , 0.8258427 , 0.82022472, 0.84269663,\n",
              "         0.82022472, 0.8258427 , 0.83146067, 0.83146067, 0.83707865,\n",
              "         0.84269663, 0.83707865, 0.84269663, 0.8258427 , 0.85393258,\n",
              "         0.8258427 , 0.85393258, 0.84269663, 0.83707865, 0.84269663,\n",
              "         0.83707865, 0.84269663, 0.84831461, 0.83707865, 0.83146067,\n",
              "         0.84269663, 0.83707865, 0.83707865, 0.84269663, 0.83146067,\n",
              "         0.83146067, 0.84269663, 0.85393258, 0.84269663, 0.83146067]),\n",
              "  'std_fit_time': array([0.01022506, 0.01664234, 0.00508845, 0.00812503, 0.00783113,\n",
              "         0.01569635, 0.00372142, 0.00814393, 0.0043106 , 0.01110021,\n",
              "         0.00232021, 0.01990673, 0.00783253, 0.00932085, 0.00982745,\n",
              "         0.00531366, 0.0128304 , 0.01984845, 0.00929337, 0.01041377,\n",
              "         0.00625294, 0.01284032, 0.00811633, 0.02118968, 0.00913148,\n",
              "         0.00931323, 0.00616101, 0.01346199, 0.00818863, 0.01240382,\n",
              "         0.00477211, 0.0048189 , 0.00683552, 0.00839487, 0.00866496,\n",
              "         0.01975511, 0.00267172, 0.00650619, 0.0065964 , 0.01148289]),\n",
              "  'std_score_time': array([5.95048737e-04, 6.45897361e-04, 2.51069793e-04, 5.72390466e-03,\n",
              "         1.75027715e-04, 2.84654890e-04, 1.30492951e-04, 1.46698828e-03,\n",
              "         1.77941419e-05, 2.34507496e-04, 8.42468842e-05, 5.95185753e-04,\n",
              "         2.00365726e-04, 1.41664540e-04, 3.22282379e-04, 6.37714036e-05,\n",
              "         6.53276106e-04, 9.30980433e-04, 3.58333337e-04, 2.61615069e-03,\n",
              "         1.15142378e-03, 2.44843289e-03, 1.65914076e-04, 6.07890509e-04,\n",
              "         1.35932801e-04, 8.98071362e-05, 2.18647438e-04, 1.86377377e-04,\n",
              "         4.20028625e-04, 2.15036451e-04, 2.10690195e-04, 8.74636340e-05,\n",
              "         3.56349332e-04, 3.35992931e-03, 2.03957829e-04, 2.83367623e-03,\n",
              "         3.20541961e-04, 1.25043578e-04, 2.04566920e-04, 3.00544767e-03]),\n",
              "  'std_test_score': array([0.01691836, 0.02097559, 0.01902493, 0.01525895, 0.01902478,\n",
              "         0.01925798, 0.01649264, 0.02262468, 0.02156626, 0.01976474,\n",
              "         0.0165442 , 0.01654011, 0.01795285, 0.02005185, 0.02281095,\n",
              "         0.01097864, 0.01162454, 0.01535081, 0.01465442, 0.01610596,\n",
              "         0.02191184, 0.01458446, 0.02373934, 0.01250077, 0.01639098,\n",
              "         0.02055795, 0.01542264, 0.02211328, 0.01870476, 0.0214364 ,\n",
              "         0.01829174, 0.02337544, 0.01738849, 0.01693353, 0.01596785,\n",
              "         0.0182134 , 0.01535081, 0.01331473, 0.01266878, 0.01503782])},\n",
              " {'subsample': 0.44},\n",
              " 0.8462368966166594)"
            ]
          },
          "metadata": {},
          "execution_count": 86
        }
      ]
    },
    {
      "cell_type": "markdown",
      "metadata": {
        "id": "LFBiILjTJNf5"
      },
      "source": [
        "### Regularization Parameter 튜닝"
      ]
    },
    {
      "cell_type": "code",
      "metadata": {
        "colab": {
          "base_uri": "https://localhost:8080/"
        },
        "id": "9TlqBcDZJZUj",
        "outputId": "135a2155-3ef6-414f-e5f6-1d86f0a29bf9"
      },
      "source": [
        "param_test5 = {\n",
        " 'reg_alpha':[1e-5, 1e-2, 0.1, 1, 100]\n",
        "}\n",
        "gsearch5 = GridSearchCV(estimator = XGBClassifier(learning_rate =0.1, \n",
        "                                                  n_estimators=1000, \n",
        "                                                  max_depth=3,\n",
        "                                                  min_child_weight=5, \n",
        "                                                  gamma=0, \n",
        "                                                  subsample=0.67, \n",
        "                                                  colsample_bytree=0.8,\n",
        "                                                  objective= 'binary:logistic', \n",
        "                                                  thread=-1, \n",
        "                                                  scale_pos_weight=1,\n",
        "                                                  seed=2019), \n",
        "                        param_grid = param_test5, scoring='accuracy', n_jobs=-1, iid=False, cv=5, verbose=10)\n",
        "gsearch5.fit(train[predictors],train[target])\n",
        "gsearch5.cv_results_, gsearch5.best_params_, gsearch5.best_score_"
      ],
      "execution_count": 87,
      "outputs": [
        {
          "output_type": "stream",
          "name": "stdout",
          "text": [
            "Fitting 5 folds for each of 5 candidates, totalling 25 fits\n"
          ]
        },
        {
          "output_type": "stream",
          "name": "stderr",
          "text": [
            "[Parallel(n_jobs=-1)]: Using backend LokyBackend with 2 concurrent workers.\n",
            "[Parallel(n_jobs=-1)]: Done   1 tasks      | elapsed:    0.7s\n",
            "[Parallel(n_jobs=-1)]: Done   4 tasks      | elapsed:    1.4s\n",
            "[Parallel(n_jobs=-1)]: Done   9 tasks      | elapsed:    3.5s\n",
            "[Parallel(n_jobs=-1)]: Done  14 tasks      | elapsed:    4.9s\n",
            "[Parallel(n_jobs=-1)]: Done  21 tasks      | elapsed:    7.3s\n",
            "[Parallel(n_jobs=-1)]: Done  25 out of  25 | elapsed:    8.0s remaining:    0.0s\n",
            "[Parallel(n_jobs=-1)]: Done  25 out of  25 | elapsed:    8.0s finished\n",
            "/usr/local/lib/python3.7/dist-packages/sklearn/model_selection/_search.py:823: FutureWarning: The parameter 'iid' is deprecated in 0.22 and will be removed in 0.24.\n",
            "  \"removed in 0.24.\", FutureWarning\n"
          ]
        },
        {
          "output_type": "execute_result",
          "data": {
            "text/plain": [
              "({'mean_fit_time': array([0.68643203, 0.66904421, 0.6674715 , 0.65801702, 0.37183886]),\n",
              "  'mean_score_time': array([0.01317825, 0.01405473, 0.01418781, 0.01322808, 0.00428019]),\n",
              "  'mean_test_score': array([0.8417739 , 0.84514469, 0.84064403, 0.84401481, 0.61616345]),\n",
              "  'param_reg_alpha': masked_array(data=[1e-05, 0.01, 0.1, 1, 100],\n",
              "               mask=[False, False, False, False, False],\n",
              "         fill_value='?',\n",
              "              dtype=object),\n",
              "  'params': [{'reg_alpha': 1e-05},\n",
              "   {'reg_alpha': 0.01},\n",
              "   {'reg_alpha': 0.1},\n",
              "   {'reg_alpha': 1},\n",
              "   {'reg_alpha': 100}],\n",
              "  'rank_test_score': array([3, 1, 4, 2, 5], dtype=int32),\n",
              "  'split0_test_score': array([0.82122905, 0.82122905, 0.82681564, 0.82681564, 0.61452514]),\n",
              "  'split1_test_score': array([0.8258427 , 0.83146067, 0.83146067, 0.83146067, 0.61797753]),\n",
              "  'split2_test_score': array([0.88202247, 0.88202247, 0.87640449, 0.88202247, 0.61797753]),\n",
              "  'split3_test_score': array([0.83146067, 0.84269663, 0.83146067, 0.83146067, 0.61797753]),\n",
              "  'split4_test_score': array([0.84831461, 0.84831461, 0.83707865, 0.84831461, 0.61235955]),\n",
              "  'std_fit_time': array([0.01688588, 0.01374804, 0.010843  , 0.01031931, 0.05937662]),\n",
              "  'std_score_time': array([0.00025687, 0.00080005, 0.00048514, 0.00029804, 0.00066504]),\n",
              "  'std_test_score': array([0.02211328, 0.02066505, 0.01817369, 0.0203671 , 0.00232492])},\n",
              " {'reg_alpha': 0.01},\n",
              " 0.8451446864603603)"
            ]
          },
          "metadata": {},
          "execution_count": 87
        }
      ]
    },
    {
      "cell_type": "markdown",
      "metadata": {
        "id": "0bSJMq3ZJcGW"
      },
      "source": [
        "### Learning Rate 감소"
      ]
    },
    {
      "cell_type": "code",
      "metadata": {
        "colab": {
          "base_uri": "https://localhost:8080/"
        },
        "id": "DsRm-5NoJfQm",
        "outputId": "e8ca2b70-91c7-4dd3-b7a1-6f11be6bd989"
      },
      "source": [
        "predictors = [x for x in train.columns if x not in [target, IDcol]]\n",
        "xgb1 = XGBClassifier(\n",
        "    learning_rate =0.01,\n",
        "    n_estimators=5000,\n",
        "    max_depth=3,\n",
        "    min_child_weight=5,\n",
        "    gamma=0,\n",
        "    reg_alpha=1e-05,\n",
        "    subsample=0.67,\n",
        "    colsample_bytree=0.8,\n",
        "    objective= 'binary:logistic',\n",
        "    nthread=-1,\n",
        "    scale_pos_weight=1,\n",
        "    seed=2019\n",
        ")\n",
        "modelfit(xgb1, train, predictors)"
      ],
      "execution_count": 90,
      "outputs": [
        {
          "output_type": "stream",
          "name": "stdout",
          "text": [
            "XGBClassifier(base_score=0.5, booster='gbtree', colsample_bylevel=1,\n",
            "              colsample_bynode=1, colsample_bytree=0.8, gamma=0,\n",
            "              learning_rate=0.01, max_delta_step=0, max_depth=3,\n",
            "              min_child_weight=5, missing=None, n_estimators=35, n_jobs=1,\n",
            "              nthread=-1, objective='binary:logistic', random_state=0,\n",
            "              reg_alpha=1e-05, reg_lambda=1, scale_pos_weight=1, seed=2019,\n",
            "              silent=None, subsample=0.67, verbosity=1)\n",
            "\n",
            "Model Report\n",
            "Training Accuracy : 0.8305\n"
          ]
        }
      ]
    },
    {
      "cell_type": "markdown",
      "metadata": {
        "id": "na3gL1BO0bPK"
      },
      "source": [
        "# 6.1.6 신경망의 매개변수와 튜닝"
      ]
    },
    {
      "cell_type": "markdown",
      "metadata": {
        "id": "z6PUUg7i1TR8"
      },
      "source": [
        "## 1. 네트워크 구성\n",
        "- hidden layer의 활성화 함수 : 'ReLU'가 1순위로 사용되고, 'PReLU', 'LeakyReLU'도 쓰임\n",
        "- hidden layer의 층수\n",
        "- 각 layer 유닛 수, Drop-out 비율\n",
        "- Batch Normalization 적용 여부"
      ]
    },
    {
      "cell_type": "markdown",
      "metadata": {
        "id": "aediWM9A2HCD"
      },
      "source": [
        "## 2. Opitimizer 선택\n",
        "옵티마이저(Optimizer)는 신경망의 가중치를 어떻게 학습할지에 관한 최적화 알고리즘\n",
        "\n",
        "\n",
        "- Stochastic gradient descent(확률적 경사하강법), Adam(Adaptive moment estimation)을 주로 사용 (CS231n 7강 참고)\n",
        "- 어떤 옵티마이저를 사용하더라도 학습률(Learning-rate) 중요한 매개변수가 될 수 있음\n",
        "- 기타 : batch size 조정, weight decay(가중치 감소)와 같은 정규화 기법 도입"
      ]
    },
    {
      "cell_type": "markdown",
      "metadata": {
        "id": "0-rrM5rk4PxN"
      },
      "source": [
        "> __learning rate 크기에 따른 학습 loss함수 그래프 (CS231n 7강)__\n",
        ">\n",
        "> ![img1](http://aikorea.org/cs231n/assets/nn3/learningrates.jpeg)"
      ]
    },
    {
      "cell_type": "markdown",
      "metadata": {
        "id": "O9XNAaS33zR0"
      },
      "source": [
        "## 3. 다층 퍼셉트론의 매개변수 튜닝 예시 (교재 P.346)"
      ]
    },
    {
      "cell_type": "markdown",
      "metadata": {
        "id": "tDTl6OQo0tsG"
      },
      "source": [
        "### 참고자료\n",
        "- [[E11] 폐렴아 기다려라 - 우수 노드 선정(이강산님)](https://github.com/RestHope/AIFFEL/blob/main/e11_pneumonia.ipynb)"
      ]
    },
    {
      "cell_type": "markdown",
      "metadata": {
        "id": "cMvRG5WF4Dg7"
      },
      "source": [
        "# 6.1.7 선형 모델의 매개변수와 튜닝\n",
        "선형 모델은 정규화 매개변수가 튜닝 대상. 튜닝 대상의 매개변수가 적고 계산도 비교적 빠르므로 10배씩 조정한 간격을 범위로 조사할 수 있다."
      ]
    },
    {
      "cell_type": "markdown",
      "metadata": {
        "id": "A5rv9C5F5IBs"
      },
      "source": [
        "### 참고자료\n",
        "- [[G01] 어떤 예측 모형이 차량 수요 예측에 가장 적합할까? (비공개)](https://github.com/AIFFEL-GN-2nd/stevekhkim/blob/main/%5BG02%5D%20Forecasting_Carsharing_Demand.ipynb)"
      ]
    },
    {
      "cell_type": "markdown",
      "metadata": {
        "id": "RCHreUDT5nTt"
      },
      "source": [
        "### Ridge"
      ]
    },
    {
      "cell_type": "code",
      "metadata": {
        "id": "d_vP6JsY5_nl"
      },
      "source": [
        "from sklearn.linear_model import Ridge,RidgeCV,Lasso,LassoCV"
      ],
      "execution_count": null,
      "outputs": []
    },
    {
      "cell_type": "code",
      "metadata": {
        "id": "NXMnA3M35Z6C"
      },
      "source": [
        "alpha_values_clean = [0.0001, 0.0005, 0.001, 0.002, 0.003, 0.004, 0.005, 0.01, 0.05, 0.1, 0.2, 0.3, 0.4, 0.5, 0.6, 0.7, 0.8, 0.9, 1]\n",
        "ridge_op_rate_cv_clean = RidgeCV(alphas=alpha_values_clean, cv=5).fit(x_train, y_train.values.ravel())\n",
        "\n",
        "print(ridge_op_rate_cv_clean.alpha_)"
      ],
      "execution_count": null,
      "outputs": []
    },
    {
      "cell_type": "markdown",
      "metadata": {
        "id": "o8bIXp3Y5qHJ"
      },
      "source": [
        "### Lasso"
      ]
    },
    {
      "cell_type": "code",
      "metadata": {
        "id": "6jACj7vu5lye"
      },
      "source": [
        "\n",
        "alpha_values = [0.0001, 0.0005, 0.001, 0.002, 0.003, 0.004, 0.005, 0.01, 0.05, 0.1, 0.2, 0.3, 0.4, 0.5, 0.6, 0.7, 0.8, 0.9, 1]\n",
        "lasso_op_rate_cv = LassoCV(alphas=alpha_values, cv=5).fit(x_train, y_train.values.ravel())\n",
        "\n",
        "print(lasso_op_rate_cv.alpha_)"
      ],
      "execution_count": null,
      "outputs": []
    }
  ]
}